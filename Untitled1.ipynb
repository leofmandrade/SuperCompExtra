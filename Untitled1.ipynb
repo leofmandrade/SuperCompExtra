{
  "nbformat": 4,
  "nbformat_minor": 0,
  "metadata": {
    "colab": {
      "provenance": [],
      "authorship_tag": "ABX9TyNXaZpoKblOsSKn611DKlm1",
      "include_colab_link": true
    },
    "kernelspec": {
      "name": "python3",
      "display_name": "Python 3"
    },
    "language_info": {
      "name": "python"
    }
  },
  "cells": [
    {
      "cell_type": "markdown",
      "metadata": {
        "id": "view-in-github",
        "colab_type": "text"
      },
      "source": [
        "<a href=\"https://colab.research.google.com/github/leofmandrade/SuperCompExtra/blob/main/Untitled1.ipynb\" target=\"_parent\"><img src=\"https://colab.research.google.com/assets/colab-badge.svg\" alt=\"Open In Colab\"/></a>"
      ]
    },
    {
      "cell_type": "code",
      "source": [
        "!git clone https://github.com/lava/matplotlib-cpp.git"
      ],
      "metadata": {
        "colab": {
          "base_uri": "https://localhost:8080/"
        },
        "id": "sreFdqTlGJu5",
        "outputId": "9287a9db-82a8-4f7f-bf06-a748931d852e"
      },
      "execution_count": 29,
      "outputs": [
        {
          "output_type": "stream",
          "name": "stdout",
          "text": [
            "Cloning into 'matplotlib-cpp'...\n",
            "remote: Enumerating objects: 645, done.\u001b[K\n",
            "remote: Counting objects: 100% (67/67), done.\u001b[K\n",
            "remote: Compressing objects: 100% (35/35), done.\u001b[K\n",
            "remote: Total 645 (delta 36), reused 45 (delta 32), pack-reused 578\u001b[K\n",
            "Receiving objects: 100% (645/645), 758.59 KiB | 5.27 MiB/s, done.\n",
            "Resolving deltas: 100% (373/373), done.\n"
          ]
        }
      ]
    },
    {
      "cell_type": "code",
      "source": [
        "!sudo apt-get install python3-dev"
      ],
      "metadata": {
        "colab": {
          "base_uri": "https://localhost:8080/"
        },
        "id": "BlLJlf-8Gkb5",
        "outputId": "11218b0b-ed27-49c6-e28e-4d6476c7cb45"
      },
      "execution_count": 35,
      "outputs": [
        {
          "output_type": "stream",
          "name": "stdout",
          "text": [
            "Reading package lists... Done\n",
            "Building dependency tree... Done\n",
            "Reading state information... Done\n",
            "python3-dev is already the newest version (3.10.6-1~22.04).\n",
            "python3-dev set to manually installed.\n",
            "0 upgraded, 0 newly installed, 0 to remove and 45 not upgraded.\n"
          ]
        }
      ]
    },
    {
      "cell_type": "code",
      "execution_count": 4,
      "metadata": {
        "colab": {
          "base_uri": "https://localhost:8080/"
        },
        "id": "gRDc2JoyzfP6",
        "outputId": "535765c8-6831-4838-ce5e-601048dca3b2"
      },
      "outputs": [
        {
          "output_type": "stream",
          "name": "stdout",
          "text": [
            "Overwriting algoritmo.cpp\n"
          ]
        }
      ],
      "source": [
        "%%writefile algoritmo.cpp\n",
        "#include <iostream>\n",
        "#include <fstream>\n",
        "#include <vector>\n",
        "#include <cstdlib>\n",
        "#include <ctime>\n",
        "#include <algorithm>\n",
        "#include <numeric>\n",
        "#include <random>\n",
        "#include <cmath>\n",
        "\n",
        "using namespace std;\n",
        "\n",
        "const int num_itens = 40;\n",
        "const int capacidade_mochila = 100;\n",
        "const int solucoes_por_pop = 16;\n",
        "const int num_geracoes = 1000;\n",
        "\n",
        "vector<int> numero_item(num_itens);\n",
        "vector<int> peso(num_itens);\n",
        "vector<int> valor(num_itens);\n",
        "\n",
        "void gerar_itens() {\n",
        "    // Gerar itens aleatórios\n",
        "    for (int i = 0; i < num_itens; ++i) {\n",
        "        numero_item[i] = i + 1;\n",
        "        peso[i] = rand() % 15 + 1;\n",
        "        valor[i] = rand() % 100 + 1;\n",
        "    }\n",
        "}\n",
        "\n",
        "vector<vector<int>> inicializar_populacao() {\n",
        "    // Inicializar população aleatoriamente\n",
        "    vector<vector<int>> populacao(solucoes_por_pop, vector<int>(num_itens));\n",
        "    for (int i = 0; i < solucoes_por_pop; ++i) {\n",
        "        for (int j = 0; j < num_itens; ++j) {\n",
        "            populacao[i][j] = rand() % 2;\n",
        "        }\n",
        "    }\n",
        "    return populacao;\n",
        "}\n",
        "\n",
        "int calcular_aptidao(const vector<int>& individuo) {\n",
        "    int peso_total = 0;\n",
        "    int valor_total = 0;\n",
        "    for (int i = 0; i < num_itens; ++i) {\n",
        "        peso_total += individuo[i] * peso[i];\n",
        "        valor_total += individuo[i] * valor[i];\n",
        "    }\n",
        "    if (peso_total <= capacidade_mochila) {\n",
        "        return valor_total;\n",
        "    }\n",
        "    return 0;\n",
        "}\n",
        "\n",
        "vector<vector<int>> selecionar_pais(const vector<vector<int>>& populacao, const vector<int>& aptidao) {\n",
        "    // Selecionar pais com base na aptidão\n",
        "    vector<vector<int>> pais(solucoes_por_pop / 2, vector<int>(num_itens));\n",
        "    vector<int> aptidao_ordenada = aptidao;\n",
        "    sort(aptidao_ordenada.begin(), aptidao_ordenada.end(), greater<int>());\n",
        "    for (int i = 0; i < solucoes_por_pop / 2; ++i) {\n",
        "        int aptidao_max = aptidao_ordenada[i];\n",
        "        auto it = find(aptidao.begin(), aptidao.end(), aptidao_max);\n",
        "        int indice = distance(aptidao.begin(), it);\n",
        "        pais[i] = populacao[indice];\n",
        "    }\n",
        "    return pais;\n",
        "}\n",
        "\n",
        "vector<int> cruzamento(const vector<vector<int>>& pais) {\n",
        "    // Realizar cruzamento\n",
        "    vector<int> descendente(num_itens);\n",
        "    int ponto_cruzamento = num_itens / 2;\n",
        "    for (int i = 0; i < ponto_cruzamento; ++i) {\n",
        "        descendente[i] = pais[0][i];\n",
        "    }\n",
        "    for (int i = ponto_cruzamento; i < num_itens; ++i) {\n",
        "        descendente[i] = pais[1][i];\n",
        "    }\n",
        "    return descendente;\n",
        "}\n",
        "\n",
        "vector<int> mutacao(const vector<int>& descendente) {\n",
        "    // Realizar mutação\n",
        "    vector<int> mutante = descendente;\n",
        "    double taxa_mutacao = 0.15;\n",
        "    for (int i = 0; i < num_itens; ++i) {\n",
        "        double valor_aleatorio = (double)rand() / RAND_MAX;\n",
        "        if (valor_aleatorio < taxa_mutacao) {\n",
        "            mutante[i] = 1 - mutante[i];\n",
        "        }\n",
        "    }\n",
        "    return mutante;\n",
        "}\n",
        "\n",
        "void otimizar(const vector<vector<int>>& populacao) {\n",
        "    vector<int> historico_aptidao;\n",
        "    vector<vector<int>> populacao_atual = populacao;\n",
        "    for (int geracao = 0; geracao < num_geracoes; ++geracao) {\n",
        "        vector<int> aptidao(solucoes_por_pop);\n",
        "        for (int i = 0; i < solucoes_por_pop; ++i) {\n",
        "            aptidao[i] = calcular_aptidao(populacao_atual[i]);\n",
        "        }\n",
        "        historico_aptidao.push_back(*max_element(aptidao.begin(), aptidao.end()));\n",
        "\n",
        "        vector<vector<int>> pais = selecionar_pais(populacao_atual, aptidao);\n",
        "        vector<vector<int>> proxima_populacao;\n",
        "        for (int i = 0; i < solucoes_por_pop / 2; ++i) {\n",
        "            vector<int> descendente = cruzamento(pais);\n",
        "            vector<int> mutante = mutacao(descendente);\n",
        "            proxima_populacao.push_back(pais[i]);\n",
        "            proxima_populacao.push_back(mutante);\n",
        "        }\n",
        "        populacao_atual = proxima_populacao;\n",
        "    }\n",
        "    ofstream arquivo_saida(\"fitness_data.txt\");\n",
        "    for (int i = 0; i < historico_aptidao.size(); ++i) {\n",
        "        arquivo_saida << i + 1 << \" \" << historico_aptidao[i] << endl;\n",
        "    }\n",
        "    arquivo_saida.close();\n",
        "    cout << \"Dados de aptidão salvos em 'fitness_data.txt'.\\n\";\n",
        "}\n",
        "\n",
        "int main() {\n",
        "    srand(time(nullptr));\n",
        "    gerar_itens();\n",
        "    vector<vector<int>> populacao = inicializar_populacao();\n",
        "    otimizar(populacao);\n",
        "    return 0;\n",
        "}\n",
        "\n"
      ]
    },
    {
      "cell_type": "code",
      "source": [
        "!g++ algoritmo.cpp -o algoritmo"
      ],
      "metadata": {
        "id": "D4MrwV6jziYk"
      },
      "execution_count": 5,
      "outputs": []
    },
    {
      "cell_type": "code",
      "source": [
        "!./algoritmo"
      ],
      "metadata": {
        "colab": {
          "base_uri": "https://localhost:8080/"
        },
        "id": "GRRn3Lw80J5m",
        "outputId": "12cf8586-2348-4c28-e9dc-83bcd2731697"
      },
      "execution_count": 6,
      "outputs": [
        {
          "output_type": "stream",
          "name": "stdout",
          "text": [
            "Dados de aptidão salvos em 'fitness_data.txt'.\n"
          ]
        }
      ]
    },
    {
      "cell_type": "code",
      "source": [
        "import matplotlib.pyplot as plt\n",
        "import numpy as np\n",
        "\n",
        "# Carregar dados do arquivo\n",
        "fitness_data = np.loadtxt('fitness_data.txt', dtype=int)\n",
        "\n",
        "# Extrair dados de geração e fitness\n",
        "generations = fitness_data[:, 0]\n",
        "fitness_values = fitness_data[:, 1]\n",
        "\n",
        "# Calcular média e máximo usando NumPy\n",
        "mean_fitness = np.cumsum(fitness_values) / np.arange(1, len(fitness_values) + 1)\n",
        "max_fitness = np.maximum.accumulate(fitness_values)\n",
        "\n",
        "# Plotar o gráfico\n",
        "plt.figure(figsize=(10, 6))\n",
        "plt.plot(generations, mean_fitness, label='Mean Fitness', color='blue')\n",
        "plt.plot(generations, max_fitness, label='Max Fitness', color='red')\n",
        "plt.legend()\n",
        "plt.title('Fitness through the Generations')\n",
        "plt.xlabel('Generations')\n",
        "plt.ylabel('Fitness')\n",
        "plt.grid(True)\n",
        "plt.show()\n"
      ],
      "metadata": {
        "colab": {
          "base_uri": "https://localhost:8080/",
          "height": 564
        },
        "id": "D5rWnheGHg13",
        "outputId": "ba1a36a5-78c8-40cf-8fb6-847f445131c0"
      },
      "execution_count": 9,
      "outputs": [
        {
          "output_type": "display_data",
          "data": {
            "text/plain": [
              "<Figure size 1000x600 with 1 Axes>"
            ],
            "image/png": "[encoded data removed]"
          },
          "metadata": {}
        }
      ]
    },
    {
      "cell_type": "code",
      "source": [],
      "metadata": {
        "id": "1OUD8JgfH5b-"
      },
      "execution_count": null,
      "outputs": []
    }
  ]
}